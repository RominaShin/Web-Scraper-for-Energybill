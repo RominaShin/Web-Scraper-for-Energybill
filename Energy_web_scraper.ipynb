{
 "cells": [
  {
   "cell_type": "code",
   "execution_count": null,
   "metadata": {
    "scrolled": true
   },
   "outputs": [],
   "source": [
    "!pip install selenium\n",
    "!pip install pandas\n",
    "!pip install requests\n",
    "#!pip install \n",
    "!pip install beautifulsoup4"
   ]
  },
  {
   "cell_type": "code",
   "execution_count": 1,
   "metadata": {},
   "outputs": [],
   "source": [
    "import os\n",
    "#from glob import glob\n",
    "import time\n",
    "from selenium import webdriver\n",
    "import urllib.request\n",
    "from selenium.webdriver.chrome.options import Options\n",
    "# from selenium.webdriver.common.action_chains import ActionChains\n",
    "from selenium.webdriver.support import expected_conditions as EC\n",
    "from selenium.webdriver.common.by import By\n",
    "from selenium.webdriver.support.ui import WebDriverWait\n",
    "\n",
    "import pandas as pd\n",
    "from selenium import webdriver\n",
    "from selenium.webdriver.common.keys import Keys\n",
    "import re\n",
    "import requests\n",
    "from bs4 import BeautifulSoup\n",
    "import csv\n",
    "\n",
    "import pandas as pd\n",
    "\n",
    "# links\n",
    "# login_address='https://app.business-in-a-box.com/account/login'\n",
    "login_address = 'http://energybill.ir/Account/Login'\n",
    "# target_page='https://app.business-in-a-box.com/doc/business-plan-template-D12528'\n",
    "# target_xml_doc='https://templates.biztree.com/svgs/docviewerWebApp.html?v4#12528.xml'\n",
    "# one_sample_svg = 'https://templates.biztree.com/svgs/12528_files/page1.svg'"
   ]
  },
  {
   "cell_type": "code",
   "execution_count": 2,
   "metadata": {},
   "outputs": [],
   "source": [
    "#Definning some basic functions for later usage\n",
    "def clickOnId(id):\n",
    "\tbrowser.find_element_by_id(id).click()\n",
    "\t\n",
    "def clickOnXpath(xpath):\n",
    "\tbrowser.find_element_by_xpath(xpath).click()\n",
    "\n",
    "def clickOnClass(class_name):\n",
    "\tbrowser.find_element(By.CLASS_NAME, class_name).click()\n",
    "\n",
    "def TypeInId(id,toBeTyped):\n",
    "\telems = browser.find_elements_by_id(id)\n",
    "\telems[0].send_keys(toBeTyped)\n",
    "\t\n",
    "def TypeInXpath(xpath,toBeTyped):\n",
    "\telems = browser.find_elements_by_xpath(xpath)\n",
    "\telems[0].send_keys(toBeTyped)\n",
    "    \n",
    "def openBrowser():\n",
    "    chromeOptions = webdriver.ChromeOptions()\n",
    "    chromedriver = \"chromedriver.exe\"\n",
    "    global browser\n",
    "    browser = webdriver.Chrome(executable_path=chromedriver, chrome_options=chromeOptions)\n",
    "    #browser.fullscreen_window()\t\n",
    "    return browser\n",
    "\n",
    "def login_into_system():\n",
    "    browser.get(login_address)\n",
    "    TypeInXpath('//*[@id=\"Email\"]',\"\")\n",
    "    TypeInXpath('//*[@id=\"Password\"]',\"\")\n",
    "    browser.find_element(By.XPATH,'/html/body/div[1]/div[2]/div/form/div[2]/div[2]/button').click()\n",
    "#     clickOnClass('btn btn-loginBlue')\n",
    "#     clickOnXpath('//*[@id=\"BibWebApp\"]/div[2]/div[2]/div/div[2]/div/div/form/button')\n",
    "    \n",
    "    time.sleep(3)\n",
    "    "
   ]
  },
  {
   "cell_type": "code",
   "execution_count": 20,
   "metadata": {
    "scrolled": false
   },
   "outputs": [
    {
     "name": "stderr",
     "output_type": "stream",
     "text": [
      "C:\\Users\\TW\\AppData\\Local\\Temp/ipykernel_7348/184779882.py:23: DeprecationWarning: use options instead of chrome_options\n",
      "  browser = webdriver.Chrome(executable_path=chromedriver, chrome_options=chromeOptions)\n"
     ]
    }
   ],
   "source": [
    "browser=openBrowser()\n",
    "login_into_system()"
   ]
  },
  {
   "cell_type": "code",
   "execution_count": 4,
   "metadata": {},
   "outputs": [],
   "source": [
    "def get_source_code(url):\n",
    "    browser.get(url)\n",
    "    elem = browser.find_element(By.XPATH,\"//*\")\n",
    "    source_code = elem.get_attribute(\"outerHTML\")\n",
    "    return source_code"
   ]
  },
  {
   "cell_type": "code",
   "execution_count": 5,
   "metadata": {},
   "outputs": [],
   "source": [
    "# class=\"navbar-text navbar-text-title paging-info navbar-pager\"\n",
    "\n",
    "def get_num_pages(url):\n",
    "#     browser.get(url)\n",
    "#     if browser.find_element(By.XPATH,'//*[@id=\"pageNum\"]') is None:\n",
    "#         elem = browser.find_element(By.XPATH,'//*[@id=\"pageNum\"]')\n",
    "#     else:\n",
    "#         elem = browser.find_element(By.CLASS_NAME,\"navbar-text navbar-text-title paging-info navbar-pager\")\n",
    "#     return elem\n",
    "\n",
    "    source_code = get_source_code(url)\n",
    "    soup = BeautifulSoup(source_code, 'html.parser')\n",
    "    return int(soup.find(\"li\", {\"class\": \"navbar-text navbar-text-title paging-info navbar-pager\"}).text.strip())"
   ]
  },
  {
   "cell_type": "code",
   "execution_count": 13,
   "metadata": {},
   "outputs": [],
   "source": [
    "def write_in_csv(vahed,page,html_page):\n",
    "    \n",
    "    soup_page = BeautifulSoup(html_page, 'html.parser')\n",
    "    parent_dir = os.getcwd()\n",
    "    directory = '{}'.format(vahed)\n",
    "    path = os.path.join(parent_dir, directory)\n",
    "    \n",
    "    os.makedirs(path, exist_ok=True)\n",
    "\n",
    "    outfile = open(\"{}\\\\table_data{}_{}.csv\".format(vahed,vahed,page),\"w\",newline='',encoding=\"utf-8\")\n",
    "    writer = csv.writer(outfile)\n",
    "\n",
    "    #tree = BeautifulSoup(html_document,\"lxml\")\n",
    "    table_tag = soup_page.find_all(\"table\")[0]\n",
    "    tab_data = [[item.text for item in row_data.select(\"th,td\")]\n",
    "                    for row_data in table_tag.select(\"tr\")]\n",
    "\n",
    "    if tab_data is not None:\n",
    "      for data in tab_data:\n",
    "          writer.writerow(data)\n",
    "          #print(' '.join(data))\n",
    "    try:    \n",
    "        pd.read_csv(\"{}//table_data{}_{}.csv\".format(vahed,vahed,page)).to_excel('{}//table_data{}_{}.xlsx'.format(vahed,vahed,page))\n",
    "    except:\n",
    "        print('no file found, vahed:{}, page:{}'.format(vahed,page))\n",
    "#     workbook = xlsxwriter.Workbook('\"table_data{}_{}.csv\".format(vahed)')\n",
    "#     worksheet = workbook.add_worksheet()"
   ]
  },
  {
   "cell_type": "code",
   "execution_count": 7,
   "metadata": {
    "scrolled": true
   },
   "outputs": [],
   "source": [
    "main_url = 'http://energybill.ir/Meter/Index/Electrical'\n",
    "#url_page = 'http://energybill.ir/Meter{}/Reading/Page{}'.format(vahed,page)"
   ]
  },
  {
   "cell_type": "code",
   "execution_count": 24,
   "metadata": {},
   "outputs": [],
   "source": [
    "list_vahed = [\n",
    "    #5513,5518,5523,5557,\n",
    "#     5558,5559,5560,5561,5562,5563,5564,5565,5593,5594,5603,\n",
    "#     5604,5605,5606,5607,5608,5609,5637,5638,5639,5640,5641,\n",
    "#     5642,5643,5644,5645,5514,5519,5524,5526,5527,5595,5596,\n",
    "#     5597,5598,5599,5600,5601,5602,5646,5647,5648,5654,5664,\n",
    "#     5665,5670,5672,5673,5674,5675,5676,5677,5678,5679,5680,\n",
    "#     10277,5516,5525,5532,5533,5534,5535,5536,5537,5538,5550,\n",
    "#     5551,5566,5567,5568,5649,5650,5651,5652,5653,5660,5662,\n",
    "#     5663,5666,5667,5668,5669,5683,5684,5685,10278,5511,5528,\n",
    "#     5529,5530,5531,5589,5590,5591,5592,5655,5656,5657,5658,\n",
    "#     5659,5661,5681,5682,5686,5687,5688,5689,5690,5691,5692,\n",
    "#     5693,5694,5695,5696,5697,5698,5515,5520,5521,5522,5575,\n",
    "#     5576,5586,5587,5588,5610,5611,5612,5613,5614,5615,5616,\n",
    "#     5617,5618,5625,5626,5627,5628,5629,5630,5631,5632,5633,\n",
    "    #5634,5635,\n",
    "    5636,5517,5541,5545,5546,5547,5549,5525,5553,\n",
    "    5554,5555,5556,5569,5570,5571,5572,5573,5574,5578,5579,\n",
    "    5580,5581,5582,5583,5619,5620,5621,5622,5623,5624,5671,\n",
    "    5542,5543,5544,5548,5577,5584,5585,10647,10648,10649]"
   ]
  },
  {
   "cell_type": "code",
   "execution_count": 25,
   "metadata": {},
   "outputs": [],
   "source": [
    "\n",
    "def run_this():\n",
    "    for vahed in list_vahed:\n",
    "        write_in_csv(vahed,1,get_source_code('http://energybill.ir/Meter{}/Reading/Page{}'.format(vahed,1))) \n",
    "        num_page = get_num_pages('http://energybill.ir/Meter{}/Reading/Page{}'.format(vahed,1))\n",
    "\n",
    "        for page in range(2,num_page+1):\n",
    "            write_in_csv(vahed,page,get_source_code('http://energybill.ir/Meter{}/Reading/Page{}'.format(vahed,page))) "
   ]
  },
  {
   "cell_type": "code",
   "execution_count": 26,
   "metadata": {},
   "outputs": [
    {
     "name": "stdout",
     "output_type": "stream",
     "text": [
      "no file found, vahed:5541, page:207\n",
      "no file found, vahed:5545, page:204\n",
      "no file found, vahed:5525, page:224\n",
      "no file found, vahed:5553, page:228\n",
      "no file found, vahed:5570, page:221\n",
      "no file found, vahed:5574, page:221\n",
      "no file found, vahed:5579, page:216\n",
      "no file found, vahed:5580, page:215\n",
      "no file found, vahed:5581, page:214\n",
      "no file found, vahed:5583, page:213\n",
      "no file found, vahed:5619, page:221\n",
      "no file found, vahed:5623, page:218\n",
      "no file found, vahed:5671, page:254\n",
      "no file found, vahed:5542, page:207\n",
      "no file found, vahed:5543, page:206\n",
      "no file found, vahed:5544, page:205\n",
      "no file found, vahed:5577, page:218\n",
      "no file found, vahed:5584, page:221\n",
      "no file found, vahed:10648, page:209\n"
     ]
    }
   ],
   "source": [
    "run_this()"
   ]
  },
  {
   "cell_type": "markdown",
   "metadata": {
    "scrolled": true
   },
   "source": [
    "no file found, vahed:5558, page:228\n",
    "no file found, vahed:5560, page:227\n",
    "no file found, vahed:5563, page:225\n",
    "no file found, vahed:5603, page:226\n",
    "no file found, vahed:5604, page:226\n",
    "no file found, vahed:5605, page:225\n",
    "no file found, vahed:5607, page:224\n",
    "no file found, vahed:5637, page:230\n",
    "no file found, vahed:5643, page:226\n",
    "no file found, vahed:5514, page:232\n",
    "no file found, vahed:5519, page:230\n",
    "no file found, vahed:5524, page:233\n",
    "no file found, vahed:5595, page:1472\n",
    "no file found, vahed:5596, page:1468\n",
    "no file found, vahed:5600, page:1467\n",
    "no file found, vahed:5646, page:231\n",
    "no file found, vahed:5648, page:229\n",
    "no file found, vahed:5672, page:230\n",
    "no file found, vahed:5679, page:227\n",
    "no file found, vahed:5532, page:222\n",
    "no file found, vahed:5533, page:222\n",
    "no file found, vahed:5534, page:221\n",
    "no file found, vahed:5550, page:229\n",
    "no file found, vahed:5566, page:224\n",
    "no file found, vahed:5567, page:222\n",
    "no file found, vahed:5568, page:222\n",
    "no file found, vahed:5649, page:229\n",
    "no file found, vahed:5651, page:228\n",
    "no file found, vahed:5653, page:226\n",
    "no file found, vahed:5662, page:217\n",
    "no file found, vahed:5663, page:209\n",
    "no file found, vahed:5667, page:254\n",
    "no file found, vahed:5668, page:254\n",
    "no file found, vahed:5685, page:221\n",
    "no file found, vahed:5511, page:226\n",
    "no file found, vahed:5528, page:225\n",
    "no file found, vahed:5530, page:224\n",
    "no file found, vahed:5589, page:215\n",
    "no file found, vahed:5592, page:213\n",
    "no file found, vahed:5655, page:222\n",
    "no file found, vahed:5657, page:220\n",
    "no file found, vahed:5658, page:220\n",
    "no file found, vahed:5681, page:224\n",
    "no file found, vahed:5682, page:222\n",
    "no file found, vahed:5693, page:221\n",
    "no file found, vahed:5697, page:218\n",
    "no file found, vahed:5515, page:222\n",
    "no file found, vahed:5520, page:220\n",
    "no file found, vahed:5613, page:216\n",
    "no file found, vahed:5614, page:216\n",
    "no file found, vahed:5616, page:215\n",
    "no file found, vahed:5617, page:215\n",
    "no file found, vahed:5618, page:215\n",
    "no file found, vahed:5631, page:208\n",
    "no file found, vahed:5632, page:207"
   ]
  },
  {
   "cell_type": "code",
   "execution_count": null,
   "metadata": {},
   "outputs": [],
   "source": []
  },
  {
   "cell_type": "code",
   "execution_count": 14,
   "metadata": {},
   "outputs": [
    {
     "name": "stdout",
     "output_type": "stream",
     "text": [
      "no file found, vahed:5557, page:230\n"
     ]
    }
   ],
   "source": []
  },
  {
   "cell_type": "code",
   "execution_count": 136,
   "metadata": {},
   "outputs": [
    {
     "data": {
      "text/plain": [
       "'C:\\\\Users\\\\Romina\\\\Desktop'"
      ]
     },
     "execution_count": 136,
     "metadata": {},
     "output_type": "execute_result"
    }
   ],
   "source": []
  },
  {
   "cell_type": "code",
   "execution_count": null,
   "metadata": {},
   "outputs": [],
   "source": []
  }
 ],
 "metadata": {
  "kernelspec": {
   "display_name": "Python 3 (ipykernel)",
   "language": "python",
   "name": "python3"
  },
  "language_info": {
   "codemirror_mode": {
    "name": "ipython",
    "version": 3
   },
   "file_extension": ".py",
   "mimetype": "text/x-python",
   "name": "python",
   "nbconvert_exporter": "python",
   "pygments_lexer": "ipython3",
   "version": "3.9.7"
  }
 },
 "nbformat": 4,
 "nbformat_minor": 4
}
